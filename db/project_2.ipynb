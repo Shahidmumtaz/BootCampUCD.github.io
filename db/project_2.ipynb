{
 "cells": [
  {
   "cell_type": "code",
   "execution_count": 1,
   "metadata": {},
   "outputs": [],
   "source": [
    "# dependencies and setup\n",
    "import pandas as pd\n",
    "import csv\n",
    "import json\n",
    "from sqlalchemy import create_engine\n",
    "import numpy as np\n",
    "import sqlite3\n",
    "\n"
   ]
  },
  {
   "cell_type": "code",
   "execution_count": 2,
   "metadata": {},
   "outputs": [
    {
     "data": {
      "text/html": [
       "<div>\n",
       "<style scoped>\n",
       "    .dataframe tbody tr th:only-of-type {\n",
       "        vertical-align: middle;\n",
       "    }\n",
       "\n",
       "    .dataframe tbody tr th {\n",
       "        vertical-align: top;\n",
       "    }\n",
       "\n",
       "    .dataframe thead th {\n",
       "        text-align: right;\n",
       "    }\n",
       "</style>\n",
       "<table border=\"1\" class=\"dataframe\">\n",
       "  <thead>\n",
       "    <tr style=\"text-align: right;\">\n",
       "      <th></th>\n",
       "      <th>State</th>\n",
       "      <th>Initials</th>\n",
       "      <th>Abbrev</th>\n",
       "      <th>BLS_State_Code</th>\n",
       "      <th>Latitude</th>\n",
       "      <th>Longitude</th>\n",
       "      <th>Pop_1990</th>\n",
       "      <th>Pop_2000</th>\n",
       "      <th>Pop_2010</th>\n",
       "      <th>Pop_2018</th>\n",
       "      <th>UR</th>\n",
       "      <th>UR_Pop</th>\n",
       "      <th>Percent_D</th>\n",
       "      <th>Deaths</th>\n",
       "      <th>Population_D</th>\n",
       "    </tr>\n",
       "  </thead>\n",
       "  <tbody>\n",
       "    <tr>\n",
       "      <td>0</td>\n",
       "      <td>Alabama</td>\n",
       "      <td>AL</td>\n",
       "      <td>Ala.</td>\n",
       "      <td>ST0100000000000</td>\n",
       "      <td>32.806671</td>\n",
       "      <td>-86.791130</td>\n",
       "      <td>4040389</td>\n",
       "      <td>4447207</td>\n",
       "      <td>4780138</td>\n",
       "      <td>4887871</td>\n",
       "      <td>0.026</td>\n",
       "      <td>4908621</td>\n",
       "      <td>0.00009892</td>\n",
       "      <td>485</td>\n",
       "      <td>4903185</td>\n",
       "    </tr>\n",
       "    <tr>\n",
       "      <td>1</td>\n",
       "      <td>Alaska</td>\n",
       "      <td>AK</td>\n",
       "      <td>Alaska</td>\n",
       "      <td>ST0200000000000</td>\n",
       "      <td>61.370716</td>\n",
       "      <td>-152.404419</td>\n",
       "      <td>550043</td>\n",
       "      <td>626933</td>\n",
       "      <td>710249</td>\n",
       "      <td>737438</td>\n",
       "      <td>0.061</td>\n",
       "      <td>734002</td>\n",
       "      <td>-</td>\n",
       "      <td>0</td>\n",
       "      <td>731545</td>\n",
       "    </tr>\n",
       "    <tr>\n",
       "      <td>2</td>\n",
       "      <td>Arizona</td>\n",
       "      <td>AZ</td>\n",
       "      <td>Ariz.</td>\n",
       "      <td>ST0400000000000</td>\n",
       "      <td>33.729759</td>\n",
       "      <td>-111.431221</td>\n",
       "      <td>3665339</td>\n",
       "      <td>5130247</td>\n",
       "      <td>6392288</td>\n",
       "      <td>7171646</td>\n",
       "      <td>0.046</td>\n",
       "      <td>7378494</td>\n",
       "      <td>0.00009329</td>\n",
       "      <td>679</td>\n",
       "      <td>7278717</td>\n",
       "    </tr>\n",
       "    <tr>\n",
       "      <td>3</td>\n",
       "      <td>Arkansas</td>\n",
       "      <td>AR</td>\n",
       "      <td>Ark.</td>\n",
       "      <td>ST0500000000000</td>\n",
       "      <td>34.969704</td>\n",
       "      <td>-92.373123</td>\n",
       "      <td>2350624</td>\n",
       "      <td>2673293</td>\n",
       "      <td>2916028</td>\n",
       "      <td>3013825</td>\n",
       "      <td>0.036</td>\n",
       "      <td>3038999</td>\n",
       "      <td>0.00003247</td>\n",
       "      <td>98</td>\n",
       "      <td>3017804</td>\n",
       "    </tr>\n",
       "    <tr>\n",
       "      <td>4</td>\n",
       "      <td>California</td>\n",
       "      <td>CA</td>\n",
       "      <td>Calif.</td>\n",
       "      <td>ST0600000000000</td>\n",
       "      <td>36.116203</td>\n",
       "      <td>-119.681564</td>\n",
       "      <td>29811427</td>\n",
       "      <td>33871653</td>\n",
       "      <td>37254523</td>\n",
       "      <td>39557045</td>\n",
       "      <td>0.039</td>\n",
       "      <td>39937489</td>\n",
       "      <td>0.00008119</td>\n",
       "      <td>3208</td>\n",
       "      <td>39512223</td>\n",
       "    </tr>\n",
       "  </tbody>\n",
       "</table>\n",
       "</div>"
      ],
      "text/plain": [
       "        State Initials  Abbrev   BLS_State_Code   Latitude   Longitude  \\\n",
       "0     Alabama       AL    Ala.  ST0100000000000  32.806671  -86.791130   \n",
       "1      Alaska       AK  Alaska  ST0200000000000  61.370716 -152.404419   \n",
       "2     Arizona       AZ   Ariz.  ST0400000000000  33.729759 -111.431221   \n",
       "3    Arkansas       AR    Ark.  ST0500000000000  34.969704  -92.373123   \n",
       "4  California       CA  Calif.  ST0600000000000  36.116203 -119.681564   \n",
       "\n",
       "   Pop_1990  Pop_2000  Pop_2010  Pop_2018     UR    UR_Pop   Percent_D  \\\n",
       "0   4040389   4447207   4780138   4887871  0.026   4908621  0.00009892   \n",
       "1    550043    626933    710249    737438  0.061    734002        -      \n",
       "2   3665339   5130247   6392288   7171646  0.046   7378494  0.00009329   \n",
       "3   2350624   2673293   2916028   3013825  0.036   3038999  0.00003247   \n",
       "4  29811427  33871653  37254523  39557045  0.039  39937489  0.00008119   \n",
       "\n",
       "   Deaths  Population_D  \n",
       "0     485       4903185  \n",
       "1       0        731545  \n",
       "2     679       7278717  \n",
       "3      98       3017804  \n",
       "4    3208      39512223  "
      ]
     },
     "execution_count": 2,
     "metadata": {},
     "output_type": "execute_result"
    }
   ],
   "source": [
    "# load csv file into dataframe\n",
    "csv_file1 = \"Resources/P3_State_Lat_Long.csv\"\n",
    "State_Lat_Long = pd.read_csv(csv_file1, encoding=\"utf8\")\n",
    "State_Lat_Long.head()\n"
   ]
  },
  {
   "cell_type": "raw",
   "metadata": {},
   "source": [
    "state_pop_30m = state_pop_in_m[(state_pop_in_m[\"pop_1990_m\"]==3000000) & (state_pop_in_m[\"pop_2000_m\"]==3000000) & (state_pop_in_m[\"pop_2010_m\"]==3000000) & (state_pop_in_m[\"pop_2018_m\"]==3000000)]\n",
    "state_pop_30m.to_csv(r\"C:\\Users\\faril\\Desktop\\project 2 draft\\state_pop_30m.csv\", encoding=\"utf-8\")\n",
    "\n",
    "state_pop_30m\n"
   ]
  },
  {
   "cell_type": "code",
   "execution_count": 3,
   "metadata": {},
   "outputs": [
    {
     "data": {
      "text/html": [
       "<div>\n",
       "<style scoped>\n",
       "    .dataframe tbody tr th:only-of-type {\n",
       "        vertical-align: middle;\n",
       "    }\n",
       "\n",
       "    .dataframe tbody tr th {\n",
       "        vertical-align: top;\n",
       "    }\n",
       "\n",
       "    .dataframe thead th {\n",
       "        text-align: right;\n",
       "    }\n",
       "</style>\n",
       "<table border=\"1\" class=\"dataframe\">\n",
       "  <thead>\n",
       "    <tr style=\"text-align: right;\">\n",
       "      <th></th>\n",
       "      <th>year</th>\n",
       "      <th>unemp_rate</th>\n",
       "    </tr>\n",
       "  </thead>\n",
       "  <tbody>\n",
       "    <tr>\n",
       "      <td>0</td>\n",
       "      <td>2010</td>\n",
       "      <td>12.964063</td>\n",
       "    </tr>\n",
       "    <tr>\n",
       "      <td>1</td>\n",
       "      <td>2011</td>\n",
       "      <td>12.620313</td>\n",
       "    </tr>\n",
       "    <tr>\n",
       "      <td>2</td>\n",
       "      <td>2012</td>\n",
       "      <td>11.171875</td>\n",
       "    </tr>\n",
       "    <tr>\n",
       "      <td>3</td>\n",
       "      <td>2013</td>\n",
       "      <td>10.390625</td>\n",
       "    </tr>\n",
       "    <tr>\n",
       "      <td>4</td>\n",
       "      <td>2014</td>\n",
       "      <td>8.889062</td>\n",
       "    </tr>\n",
       "  </tbody>\n",
       "</table>\n",
       "</div>"
      ],
      "text/plain": [
       "   year  unemp_rate\n",
       "0  2010   12.964063\n",
       "1  2011   12.620313\n",
       "2  2012   11.171875\n",
       "3  2013   10.390625\n",
       "4  2014    8.889062"
      ]
     },
     "execution_count": 3,
     "metadata": {},
     "output_type": "execute_result"
    }
   ],
   "source": [
    "# load csv file into dataframe\n",
    "csv_file2 = \"Resources/P3_unemployment.csv\"\n",
    "unemployment = pd.read_csv(csv_file2, encoding=\"utf8\")\n",
    "unemployment.head()"
   ]
  },
  {
   "cell_type": "code",
   "execution_count": 4,
   "metadata": {},
   "outputs": [],
   "source": [
    "rds_connection_string = \"postgres:Abc*1234@127.0.0.1:5432/p3_project\"\n",
    "engine = create_engine(f'postgres://{rds_connection_string}')"
   ]
  },
  {
   "cell_type": "code",
   "execution_count": 5,
   "metadata": {},
   "outputs": [
    {
     "data": {
      "text/plain": [
       "['state_lat_long', 'unemployment', 'State_Lat_Long']"
      ]
     },
     "execution_count": 5,
     "metadata": {},
     "output_type": "execute_result"
    }
   ],
   "source": [
    "engine.table_names()"
   ]
  },
  {
   "cell_type": "code",
   "execution_count": 6,
   "metadata": {},
   "outputs": [],
   "source": [
    "unemployment.to_sql(name=\"unemployment\", con=engine, if_exists=\"append\", index=False)"
   ]
  },
  {
   "cell_type": "code",
   "execution_count": 7,
   "metadata": {},
   "outputs": [
    {
     "ename": "ProgrammingError",
     "evalue": "(psycopg2.errors.UndefinedColumn) column \"State\" of relation \"state_lat_long\" does not exist\nLINE 1: INSERT INTO state_lat_long (\"State\", \"Initials\", \"Abbrev\", \"...\n                                    ^\n\n[SQL: INSERT INTO state_lat_long (\"State\", \"Initials\", \"Abbrev\", \"BLS_State_Code\", \"Latitude\", \"Longitude\", \"Pop_1990\", \"Pop_2000\", \"Pop_2010\", \"Pop_2018\", \"UR\", \"UR_Pop\", \"Percent_D\", \"Deaths\", \"Population_D\") VALUES (%(State)s, %(Initials)s, %(Abbrev)s, %(BLS_State_Code)s, %(Latitude)s, %(Longitude)s, %(Pop_1990)s, %(Pop_2000)s, %(Pop_2010)s, %(Pop_2018)s, %(UR)s, %(UR_Pop)s, %(Percent_D)s, %(Deaths)s, %(Population_D)s)]\n[parameters: ({'State': 'Alabama', 'Initials': 'AL', 'Abbrev': 'Ala.', 'BLS_State_Code': 'ST0100000000000', 'Latitude': 32.806671, 'Longitude': -86.79113000000001, 'Pop_1990': 4040389, 'Pop_2000': 4447207, 'Pop_2010': 4780138, 'Pop_2018': 4887871, 'UR': 0.026000000000000002, 'UR_Pop': 4908621, 'Percent_D': '0.00009892', 'Deaths': 485, 'Population_D': 4903185}, {'State': 'Alaska', 'Initials': 'AK', 'Abbrev': 'Alaska', 'BLS_State_Code': 'ST0200000000000', 'Latitude': 61.370716, 'Longitude': -152.404419, 'Pop_1990': 550043, 'Pop_2000': 626933, 'Pop_2010': 710249, 'Pop_2018': 737438, 'UR': 0.061, 'UR_Pop': 734002, 'Percent_D': ' -   ', 'Deaths': 0, 'Population_D': 731545}, {'State': 'Arizona', 'Initials': 'AZ', 'Abbrev': 'Ariz.', 'BLS_State_Code': 'ST0400000000000', 'Latitude': 33.729759, 'Longitude': -111.431221, 'Pop_1990': 3665339, 'Pop_2000': 5130247, 'Pop_2010': 6392288, 'Pop_2018': 7171646, 'UR': 0.046, 'UR_Pop': 7378494, 'Percent_D': '0.00009329', 'Deaths': 679, 'Population_D': 7278717}, {'State': 'Arkansas', 'Initials': 'AR', 'Abbrev': 'Ark.', 'BLS_State_Code': 'ST0500000000000', 'Latitude': 34.969704, 'Longitude': -92.37312299999999, 'Pop_1990': 2350624, 'Pop_2000': 2673293, 'Pop_2010': 2916028, 'Pop_2018': 3013825, 'UR': 0.036000000000000004, 'UR_Pop': 3038999, 'Percent_D': '0.00003247', 'Deaths': 98, 'Population_D': 3017804}, {'State': 'California', 'Initials': 'CA', 'Abbrev': 'Calif.', 'BLS_State_Code': 'ST0600000000000', 'Latitude': 36.116203000000006, 'Longitude': -119.681564, 'Pop_1990': 29811427, 'Pop_2000': 33871653, 'Pop_2010': 37254523, 'Pop_2018': 39557045, 'UR': 0.039, 'UR_Pop': 39937489, 'Percent_D': '0.00008119', 'Deaths': 3208, 'Population_D': 39512223}, {'State': 'Colorado', 'Initials': 'CO', 'Abbrev': 'Colo.', 'BLS_State_Code': 'ST0800000000000', 'Latitude': 39.059810999999996, 'Longitude': -105.311104, 'Pop_1990': 3294473, 'Pop_2000': 4302086, 'Pop_2010': 5029316, 'Pop_2018': 5695564, 'UR': 0.025, 'UR_Pop': 5845526, 'Percent_D': '0.00020699', 'Deaths': 1192, 'Population_D': 5758736}, {'State': 'Connecticut', 'Initials': 'CT', 'Abbrev': 'Conn.', 'BLS_State_Code': 'ST0900000000000', 'Latitude': 41.597782, 'Longitude': -72.755371, 'Pop_1990': 3287116, 'Pop_2000': 3405650, 'Pop_2010': 3574147, 'Pop_2018': 3572665, 'UR': 0.037000000000000005, 'UR_Pop': 3563077, 'Percent_D': '0.00093653', 'Deaths': 3339, 'Population_D': 3565287}, {'State': 'Delaware', 'Initials': 'DE', 'Abbrev': 'Del.', 'BLS_State_Code': 'ST1000000000000', 'Latitude': 39.318523, 'Longitude': -75.507141, 'Pop_1990': 666168, 'Pop_2000': 783559, 'Pop_2010': 897934, 'Pop_2018': 967171, 'UR': 0.039, 'UR_Pop': 982895, 'Percent_D': '0.00029371', 'Deaths': 286, 'Population_D': 973764}  ... displaying 10 of 51 total bound parameter sets ...  {'State': 'Wisconsin', 'Initials': 'WI', 'Abbrev': 'Wis.', 'BLS_State_Code': 'ST5500000000000', 'Latitude': 44.268543, 'Longitude': -89.616508, 'Pop_1990': 4891954, 'Pop_2000': 5363757, 'Pop_2010': 5687282, 'Pop_2018': 5813568, 'UR': 0.034, 'UR_Pop': 5851754, 'Percent_D': '0.0000778', 'Deaths': 453, 'Population_D': 5822434}, {'State': 'Wyoming', 'Initials': 'WY', 'Abbrev': 'Wyo.', 'BLS_State_Code': 'ST5600000000000', 'Latitude': 42.755966, 'Longitude': -107.30248999999999, 'Pop_1990': 453589, 'Pop_2000': 493786, 'Pop_2010': 563773, 'Pop_2018': 577737, 'UR': 0.037000000000000005, 'UR_Pop': 567025, 'Percent_D': '0.00001209', 'Deaths': 7, 'Population_D': 578759})]\n(Background on this error at: http://sqlalche.me/e/f405)",
     "output_type": "error",
     "traceback": [
      "\u001b[1;31m---------------------------------------------------------------------------\u001b[0m",
      "\u001b[1;31mUndefinedColumn\u001b[0m                           Traceback (most recent call last)",
      "\u001b[1;32m~\\Anaconda3\\lib\\site-packages\\sqlalchemy\\engine\\base.py\u001b[0m in \u001b[0;36m_execute_context\u001b[1;34m(self, dialect, constructor, statement, parameters, *args)\u001b[0m\n\u001b[0;32m   1228\u001b[0m                     self.dialect.do_executemany(\n\u001b[1;32m-> 1229\u001b[1;33m                         \u001b[0mcursor\u001b[0m\u001b[1;33m,\u001b[0m \u001b[0mstatement\u001b[0m\u001b[1;33m,\u001b[0m \u001b[0mparameters\u001b[0m\u001b[1;33m,\u001b[0m \u001b[0mcontext\u001b[0m\u001b[1;33m\u001b[0m\u001b[1;33m\u001b[0m\u001b[0m\n\u001b[0m\u001b[0;32m   1230\u001b[0m                     )\n",
      "\u001b[1;32m~\\Anaconda3\\lib\\site-packages\\sqlalchemy\\dialects\\postgresql\\psycopg2.py\u001b[0m in \u001b[0;36mdo_executemany\u001b[1;34m(self, cursor, statement, parameters, context)\u001b[0m\n\u001b[0;32m    853\u001b[0m         \u001b[1;32mif\u001b[0m \u001b[0mself\u001b[0m\u001b[1;33m.\u001b[0m\u001b[0mexecutemany_mode\u001b[0m \u001b[1;32mis\u001b[0m \u001b[0mEXECUTEMANY_DEFAULT\u001b[0m\u001b[1;33m:\u001b[0m\u001b[1;33m\u001b[0m\u001b[1;33m\u001b[0m\u001b[0m\n\u001b[1;32m--> 854\u001b[1;33m             \u001b[0mcursor\u001b[0m\u001b[1;33m.\u001b[0m\u001b[0mexecutemany\u001b[0m\u001b[1;33m(\u001b[0m\u001b[0mstatement\u001b[0m\u001b[1;33m,\u001b[0m \u001b[0mparameters\u001b[0m\u001b[1;33m)\u001b[0m\u001b[1;33m\u001b[0m\u001b[1;33m\u001b[0m\u001b[0m\n\u001b[0m\u001b[0;32m    855\u001b[0m             \u001b[1;32mreturn\u001b[0m\u001b[1;33m\u001b[0m\u001b[1;33m\u001b[0m\u001b[0m\n",
      "\u001b[1;31mUndefinedColumn\u001b[0m: column \"State\" of relation \"state_lat_long\" does not exist\nLINE 1: INSERT INTO state_lat_long (\"State\", \"Initials\", \"Abbrev\", \"...\n                                    ^\n",
      "\nThe above exception was the direct cause of the following exception:\n",
      "\u001b[1;31mProgrammingError\u001b[0m                          Traceback (most recent call last)",
      "\u001b[1;32m<ipython-input-7-e9e48289c3db>\u001b[0m in \u001b[0;36m<module>\u001b[1;34m\u001b[0m\n\u001b[1;32m----> 1\u001b[1;33m \u001b[0mState_Lat_Long\u001b[0m\u001b[1;33m.\u001b[0m\u001b[0mto_sql\u001b[0m\u001b[1;33m(\u001b[0m\u001b[0mname\u001b[0m\u001b[1;33m=\u001b[0m\u001b[1;34m\"state_lat_long\"\u001b[0m\u001b[1;33m,\u001b[0m \u001b[0mcon\u001b[0m\u001b[1;33m=\u001b[0m\u001b[0mengine\u001b[0m\u001b[1;33m,\u001b[0m \u001b[0mif_exists\u001b[0m\u001b[1;33m=\u001b[0m\u001b[1;34m\"append\"\u001b[0m\u001b[1;33m,\u001b[0m \u001b[0mindex\u001b[0m\u001b[1;33m=\u001b[0m\u001b[1;32mFalse\u001b[0m\u001b[1;33m)\u001b[0m\u001b[1;33m\u001b[0m\u001b[1;33m\u001b[0m\u001b[0m\n\u001b[0m",
      "\u001b[1;32m~\\Anaconda3\\lib\\site-packages\\pandas\\core\\generic.py\u001b[0m in \u001b[0;36mto_sql\u001b[1;34m(self, name, con, schema, if_exists, index, index_label, chunksize, dtype, method)\u001b[0m\n\u001b[0;32m   2710\u001b[0m             \u001b[0mchunksize\u001b[0m\u001b[1;33m=\u001b[0m\u001b[0mchunksize\u001b[0m\u001b[1;33m,\u001b[0m\u001b[1;33m\u001b[0m\u001b[1;33m\u001b[0m\u001b[0m\n\u001b[0;32m   2711\u001b[0m             \u001b[0mdtype\u001b[0m\u001b[1;33m=\u001b[0m\u001b[0mdtype\u001b[0m\u001b[1;33m,\u001b[0m\u001b[1;33m\u001b[0m\u001b[1;33m\u001b[0m\u001b[0m\n\u001b[1;32m-> 2712\u001b[1;33m             \u001b[0mmethod\u001b[0m\u001b[1;33m=\u001b[0m\u001b[0mmethod\u001b[0m\u001b[1;33m,\u001b[0m\u001b[1;33m\u001b[0m\u001b[1;33m\u001b[0m\u001b[0m\n\u001b[0m\u001b[0;32m   2713\u001b[0m         )\n\u001b[0;32m   2714\u001b[0m \u001b[1;33m\u001b[0m\u001b[0m\n",
      "\u001b[1;32m~\\Anaconda3\\lib\\site-packages\\pandas\\io\\sql.py\u001b[0m in \u001b[0;36mto_sql\u001b[1;34m(frame, name, con, schema, if_exists, index, index_label, chunksize, dtype, method)\u001b[0m\n\u001b[0;32m    516\u001b[0m         \u001b[0mchunksize\u001b[0m\u001b[1;33m=\u001b[0m\u001b[0mchunksize\u001b[0m\u001b[1;33m,\u001b[0m\u001b[1;33m\u001b[0m\u001b[1;33m\u001b[0m\u001b[0m\n\u001b[0;32m    517\u001b[0m         \u001b[0mdtype\u001b[0m\u001b[1;33m=\u001b[0m\u001b[0mdtype\u001b[0m\u001b[1;33m,\u001b[0m\u001b[1;33m\u001b[0m\u001b[1;33m\u001b[0m\u001b[0m\n\u001b[1;32m--> 518\u001b[1;33m         \u001b[0mmethod\u001b[0m\u001b[1;33m=\u001b[0m\u001b[0mmethod\u001b[0m\u001b[1;33m,\u001b[0m\u001b[1;33m\u001b[0m\u001b[1;33m\u001b[0m\u001b[0m\n\u001b[0m\u001b[0;32m    519\u001b[0m     )\n\u001b[0;32m    520\u001b[0m \u001b[1;33m\u001b[0m\u001b[0m\n",
      "\u001b[1;32m~\\Anaconda3\\lib\\site-packages\\pandas\\io\\sql.py\u001b[0m in \u001b[0;36mto_sql\u001b[1;34m(self, frame, name, if_exists, index, index_label, schema, chunksize, dtype, method)\u001b[0m\n\u001b[0;32m   1318\u001b[0m         )\n\u001b[0;32m   1319\u001b[0m         \u001b[0mtable\u001b[0m\u001b[1;33m.\u001b[0m\u001b[0mcreate\u001b[0m\u001b[1;33m(\u001b[0m\u001b[1;33m)\u001b[0m\u001b[1;33m\u001b[0m\u001b[1;33m\u001b[0m\u001b[0m\n\u001b[1;32m-> 1320\u001b[1;33m         \u001b[0mtable\u001b[0m\u001b[1;33m.\u001b[0m\u001b[0minsert\u001b[0m\u001b[1;33m(\u001b[0m\u001b[0mchunksize\u001b[0m\u001b[1;33m,\u001b[0m \u001b[0mmethod\u001b[0m\u001b[1;33m=\u001b[0m\u001b[0mmethod\u001b[0m\u001b[1;33m)\u001b[0m\u001b[1;33m\u001b[0m\u001b[1;33m\u001b[0m\u001b[0m\n\u001b[0m\u001b[0;32m   1321\u001b[0m         \u001b[1;32mif\u001b[0m \u001b[1;32mnot\u001b[0m \u001b[0mname\u001b[0m\u001b[1;33m.\u001b[0m\u001b[0misdigit\u001b[0m\u001b[1;33m(\u001b[0m\u001b[1;33m)\u001b[0m \u001b[1;32mand\u001b[0m \u001b[1;32mnot\u001b[0m \u001b[0mname\u001b[0m\u001b[1;33m.\u001b[0m\u001b[0mislower\u001b[0m\u001b[1;33m(\u001b[0m\u001b[1;33m)\u001b[0m\u001b[1;33m:\u001b[0m\u001b[1;33m\u001b[0m\u001b[1;33m\u001b[0m\u001b[0m\n\u001b[0;32m   1322\u001b[0m             \u001b[1;31m# check for potentially case sensitivity issues (GH7815)\u001b[0m\u001b[1;33m\u001b[0m\u001b[1;33m\u001b[0m\u001b[1;33m\u001b[0m\u001b[0m\n",
      "\u001b[1;32m~\\Anaconda3\\lib\\site-packages\\pandas\\io\\sql.py\u001b[0m in \u001b[0;36minsert\u001b[1;34m(self, chunksize, method)\u001b[0m\n\u001b[0;32m    754\u001b[0m \u001b[1;33m\u001b[0m\u001b[0m\n\u001b[0;32m    755\u001b[0m                 \u001b[0mchunk_iter\u001b[0m \u001b[1;33m=\u001b[0m \u001b[0mzip\u001b[0m\u001b[1;33m(\u001b[0m\u001b[1;33m*\u001b[0m\u001b[1;33m[\u001b[0m\u001b[0marr\u001b[0m\u001b[1;33m[\u001b[0m\u001b[0mstart_i\u001b[0m\u001b[1;33m:\u001b[0m\u001b[0mend_i\u001b[0m\u001b[1;33m]\u001b[0m \u001b[1;32mfor\u001b[0m \u001b[0marr\u001b[0m \u001b[1;32min\u001b[0m \u001b[0mdata_list\u001b[0m\u001b[1;33m]\u001b[0m\u001b[1;33m)\u001b[0m\u001b[1;33m\u001b[0m\u001b[1;33m\u001b[0m\u001b[0m\n\u001b[1;32m--> 756\u001b[1;33m                 \u001b[0mexec_insert\u001b[0m\u001b[1;33m(\u001b[0m\u001b[0mconn\u001b[0m\u001b[1;33m,\u001b[0m \u001b[0mkeys\u001b[0m\u001b[1;33m,\u001b[0m \u001b[0mchunk_iter\u001b[0m\u001b[1;33m)\u001b[0m\u001b[1;33m\u001b[0m\u001b[1;33m\u001b[0m\u001b[0m\n\u001b[0m\u001b[0;32m    757\u001b[0m \u001b[1;33m\u001b[0m\u001b[0m\n\u001b[0;32m    758\u001b[0m     def _query_iterator(\n",
      "\u001b[1;32m~\\Anaconda3\\lib\\site-packages\\pandas\\io\\sql.py\u001b[0m in \u001b[0;36m_execute_insert\u001b[1;34m(self, conn, keys, data_iter)\u001b[0m\n\u001b[0;32m    668\u001b[0m         \"\"\"\n\u001b[0;32m    669\u001b[0m         \u001b[0mdata\u001b[0m \u001b[1;33m=\u001b[0m \u001b[1;33m[\u001b[0m\u001b[0mdict\u001b[0m\u001b[1;33m(\u001b[0m\u001b[0mzip\u001b[0m\u001b[1;33m(\u001b[0m\u001b[0mkeys\u001b[0m\u001b[1;33m,\u001b[0m \u001b[0mrow\u001b[0m\u001b[1;33m)\u001b[0m\u001b[1;33m)\u001b[0m \u001b[1;32mfor\u001b[0m \u001b[0mrow\u001b[0m \u001b[1;32min\u001b[0m \u001b[0mdata_iter\u001b[0m\u001b[1;33m]\u001b[0m\u001b[1;33m\u001b[0m\u001b[1;33m\u001b[0m\u001b[0m\n\u001b[1;32m--> 670\u001b[1;33m         \u001b[0mconn\u001b[0m\u001b[1;33m.\u001b[0m\u001b[0mexecute\u001b[0m\u001b[1;33m(\u001b[0m\u001b[0mself\u001b[0m\u001b[1;33m.\u001b[0m\u001b[0mtable\u001b[0m\u001b[1;33m.\u001b[0m\u001b[0minsert\u001b[0m\u001b[1;33m(\u001b[0m\u001b[1;33m)\u001b[0m\u001b[1;33m,\u001b[0m \u001b[0mdata\u001b[0m\u001b[1;33m)\u001b[0m\u001b[1;33m\u001b[0m\u001b[1;33m\u001b[0m\u001b[0m\n\u001b[0m\u001b[0;32m    671\u001b[0m \u001b[1;33m\u001b[0m\u001b[0m\n\u001b[0;32m    672\u001b[0m     \u001b[1;32mdef\u001b[0m \u001b[0m_execute_insert_multi\u001b[0m\u001b[1;33m(\u001b[0m\u001b[0mself\u001b[0m\u001b[1;33m,\u001b[0m \u001b[0mconn\u001b[0m\u001b[1;33m,\u001b[0m \u001b[0mkeys\u001b[0m\u001b[1;33m,\u001b[0m \u001b[0mdata_iter\u001b[0m\u001b[1;33m)\u001b[0m\u001b[1;33m:\u001b[0m\u001b[1;33m\u001b[0m\u001b[1;33m\u001b[0m\u001b[0m\n",
      "\u001b[1;32m~\\Anaconda3\\lib\\site-packages\\sqlalchemy\\engine\\base.py\u001b[0m in \u001b[0;36mexecute\u001b[1;34m(self, object_, *multiparams, **params)\u001b[0m\n\u001b[0;32m    986\u001b[0m             \u001b[1;32mraise\u001b[0m \u001b[0mexc\u001b[0m\u001b[1;33m.\u001b[0m\u001b[0mObjectNotExecutableError\u001b[0m\u001b[1;33m(\u001b[0m\u001b[0mobject_\u001b[0m\u001b[1;33m)\u001b[0m\u001b[1;33m\u001b[0m\u001b[1;33m\u001b[0m\u001b[0m\n\u001b[0;32m    987\u001b[0m         \u001b[1;32melse\u001b[0m\u001b[1;33m:\u001b[0m\u001b[1;33m\u001b[0m\u001b[1;33m\u001b[0m\u001b[0m\n\u001b[1;32m--> 988\u001b[1;33m             \u001b[1;32mreturn\u001b[0m \u001b[0mmeth\u001b[0m\u001b[1;33m(\u001b[0m\u001b[0mself\u001b[0m\u001b[1;33m,\u001b[0m \u001b[0mmultiparams\u001b[0m\u001b[1;33m,\u001b[0m \u001b[0mparams\u001b[0m\u001b[1;33m)\u001b[0m\u001b[1;33m\u001b[0m\u001b[1;33m\u001b[0m\u001b[0m\n\u001b[0m\u001b[0;32m    989\u001b[0m \u001b[1;33m\u001b[0m\u001b[0m\n\u001b[0;32m    990\u001b[0m     \u001b[1;32mdef\u001b[0m \u001b[0m_execute_function\u001b[0m\u001b[1;33m(\u001b[0m\u001b[0mself\u001b[0m\u001b[1;33m,\u001b[0m \u001b[0mfunc\u001b[0m\u001b[1;33m,\u001b[0m \u001b[0mmultiparams\u001b[0m\u001b[1;33m,\u001b[0m \u001b[0mparams\u001b[0m\u001b[1;33m)\u001b[0m\u001b[1;33m:\u001b[0m\u001b[1;33m\u001b[0m\u001b[1;33m\u001b[0m\u001b[0m\n",
      "\u001b[1;32m~\\Anaconda3\\lib\\site-packages\\sqlalchemy\\sql\\elements.py\u001b[0m in \u001b[0;36m_execute_on_connection\u001b[1;34m(self, connection, multiparams, params)\u001b[0m\n\u001b[0;32m    285\u001b[0m     \u001b[1;32mdef\u001b[0m \u001b[0m_execute_on_connection\u001b[0m\u001b[1;33m(\u001b[0m\u001b[0mself\u001b[0m\u001b[1;33m,\u001b[0m \u001b[0mconnection\u001b[0m\u001b[1;33m,\u001b[0m \u001b[0mmultiparams\u001b[0m\u001b[1;33m,\u001b[0m \u001b[0mparams\u001b[0m\u001b[1;33m)\u001b[0m\u001b[1;33m:\u001b[0m\u001b[1;33m\u001b[0m\u001b[1;33m\u001b[0m\u001b[0m\n\u001b[0;32m    286\u001b[0m         \u001b[1;32mif\u001b[0m \u001b[0mself\u001b[0m\u001b[1;33m.\u001b[0m\u001b[0msupports_execution\u001b[0m\u001b[1;33m:\u001b[0m\u001b[1;33m\u001b[0m\u001b[1;33m\u001b[0m\u001b[0m\n\u001b[1;32m--> 287\u001b[1;33m             \u001b[1;32mreturn\u001b[0m \u001b[0mconnection\u001b[0m\u001b[1;33m.\u001b[0m\u001b[0m_execute_clauseelement\u001b[0m\u001b[1;33m(\u001b[0m\u001b[0mself\u001b[0m\u001b[1;33m,\u001b[0m \u001b[0mmultiparams\u001b[0m\u001b[1;33m,\u001b[0m \u001b[0mparams\u001b[0m\u001b[1;33m)\u001b[0m\u001b[1;33m\u001b[0m\u001b[1;33m\u001b[0m\u001b[0m\n\u001b[0m\u001b[0;32m    288\u001b[0m         \u001b[1;32melse\u001b[0m\u001b[1;33m:\u001b[0m\u001b[1;33m\u001b[0m\u001b[1;33m\u001b[0m\u001b[0m\n\u001b[0;32m    289\u001b[0m             \u001b[1;32mraise\u001b[0m \u001b[0mexc\u001b[0m\u001b[1;33m.\u001b[0m\u001b[0mObjectNotExecutableError\u001b[0m\u001b[1;33m(\u001b[0m\u001b[0mself\u001b[0m\u001b[1;33m)\u001b[0m\u001b[1;33m\u001b[0m\u001b[1;33m\u001b[0m\u001b[0m\n",
      "\u001b[1;32m~\\Anaconda3\\lib\\site-packages\\sqlalchemy\\engine\\base.py\u001b[0m in \u001b[0;36m_execute_clauseelement\u001b[1;34m(self, elem, multiparams, params)\u001b[0m\n\u001b[0;32m   1105\u001b[0m             \u001b[0mdistilled_params\u001b[0m\u001b[1;33m,\u001b[0m\u001b[1;33m\u001b[0m\u001b[1;33m\u001b[0m\u001b[0m\n\u001b[0;32m   1106\u001b[0m             \u001b[0mcompiled_sql\u001b[0m\u001b[1;33m,\u001b[0m\u001b[1;33m\u001b[0m\u001b[1;33m\u001b[0m\u001b[0m\n\u001b[1;32m-> 1107\u001b[1;33m             \u001b[0mdistilled_params\u001b[0m\u001b[1;33m,\u001b[0m\u001b[1;33m\u001b[0m\u001b[1;33m\u001b[0m\u001b[0m\n\u001b[0m\u001b[0;32m   1108\u001b[0m         )\n\u001b[0;32m   1109\u001b[0m         \u001b[1;32mif\u001b[0m \u001b[0mself\u001b[0m\u001b[1;33m.\u001b[0m\u001b[0m_has_events\u001b[0m \u001b[1;32mor\u001b[0m \u001b[0mself\u001b[0m\u001b[1;33m.\u001b[0m\u001b[0mengine\u001b[0m\u001b[1;33m.\u001b[0m\u001b[0m_has_events\u001b[0m\u001b[1;33m:\u001b[0m\u001b[1;33m\u001b[0m\u001b[1;33m\u001b[0m\u001b[0m\n",
      "\u001b[1;32m~\\Anaconda3\\lib\\site-packages\\sqlalchemy\\engine\\base.py\u001b[0m in \u001b[0;36m_execute_context\u001b[1;34m(self, dialect, constructor, statement, parameters, *args)\u001b[0m\n\u001b[0;32m   1251\u001b[0m         \u001b[1;32mexcept\u001b[0m \u001b[0mBaseException\u001b[0m \u001b[1;32mas\u001b[0m \u001b[0me\u001b[0m\u001b[1;33m:\u001b[0m\u001b[1;33m\u001b[0m\u001b[1;33m\u001b[0m\u001b[0m\n\u001b[0;32m   1252\u001b[0m             self._handle_dbapi_exception(\n\u001b[1;32m-> 1253\u001b[1;33m                 \u001b[0me\u001b[0m\u001b[1;33m,\u001b[0m \u001b[0mstatement\u001b[0m\u001b[1;33m,\u001b[0m \u001b[0mparameters\u001b[0m\u001b[1;33m,\u001b[0m \u001b[0mcursor\u001b[0m\u001b[1;33m,\u001b[0m \u001b[0mcontext\u001b[0m\u001b[1;33m\u001b[0m\u001b[1;33m\u001b[0m\u001b[0m\n\u001b[0m\u001b[0;32m   1254\u001b[0m             )\n\u001b[0;32m   1255\u001b[0m \u001b[1;33m\u001b[0m\u001b[0m\n",
      "\u001b[1;32m~\\Anaconda3\\lib\\site-packages\\sqlalchemy\\engine\\base.py\u001b[0m in \u001b[0;36m_handle_dbapi_exception\u001b[1;34m(self, e, statement, parameters, cursor, context)\u001b[0m\n\u001b[0;32m   1471\u001b[0m                 \u001b[0mutil\u001b[0m\u001b[1;33m.\u001b[0m\u001b[0mraise_from_cause\u001b[0m\u001b[1;33m(\u001b[0m\u001b[0mnewraise\u001b[0m\u001b[1;33m,\u001b[0m \u001b[0mexc_info\u001b[0m\u001b[1;33m)\u001b[0m\u001b[1;33m\u001b[0m\u001b[1;33m\u001b[0m\u001b[0m\n\u001b[0;32m   1472\u001b[0m             \u001b[1;32melif\u001b[0m \u001b[0mshould_wrap\u001b[0m\u001b[1;33m:\u001b[0m\u001b[1;33m\u001b[0m\u001b[1;33m\u001b[0m\u001b[0m\n\u001b[1;32m-> 1473\u001b[1;33m                 \u001b[0mutil\u001b[0m\u001b[1;33m.\u001b[0m\u001b[0mraise_from_cause\u001b[0m\u001b[1;33m(\u001b[0m\u001b[0msqlalchemy_exception\u001b[0m\u001b[1;33m,\u001b[0m \u001b[0mexc_info\u001b[0m\u001b[1;33m)\u001b[0m\u001b[1;33m\u001b[0m\u001b[1;33m\u001b[0m\u001b[0m\n\u001b[0m\u001b[0;32m   1474\u001b[0m             \u001b[1;32melse\u001b[0m\u001b[1;33m:\u001b[0m\u001b[1;33m\u001b[0m\u001b[1;33m\u001b[0m\u001b[0m\n\u001b[0;32m   1475\u001b[0m                 \u001b[0mutil\u001b[0m\u001b[1;33m.\u001b[0m\u001b[0mreraise\u001b[0m\u001b[1;33m(\u001b[0m\u001b[1;33m*\u001b[0m\u001b[0mexc_info\u001b[0m\u001b[1;33m)\u001b[0m\u001b[1;33m\u001b[0m\u001b[1;33m\u001b[0m\u001b[0m\n",
      "\u001b[1;32m~\\Anaconda3\\lib\\site-packages\\sqlalchemy\\util\\compat.py\u001b[0m in \u001b[0;36mraise_from_cause\u001b[1;34m(exception, exc_info)\u001b[0m\n\u001b[0;32m    396\u001b[0m     \u001b[0mexc_type\u001b[0m\u001b[1;33m,\u001b[0m \u001b[0mexc_value\u001b[0m\u001b[1;33m,\u001b[0m \u001b[0mexc_tb\u001b[0m \u001b[1;33m=\u001b[0m \u001b[0mexc_info\u001b[0m\u001b[1;33m\u001b[0m\u001b[1;33m\u001b[0m\u001b[0m\n\u001b[0;32m    397\u001b[0m     \u001b[0mcause\u001b[0m \u001b[1;33m=\u001b[0m \u001b[0mexc_value\u001b[0m \u001b[1;32mif\u001b[0m \u001b[0mexc_value\u001b[0m \u001b[1;32mis\u001b[0m \u001b[1;32mnot\u001b[0m \u001b[0mexception\u001b[0m \u001b[1;32melse\u001b[0m \u001b[1;32mNone\u001b[0m\u001b[1;33m\u001b[0m\u001b[1;33m\u001b[0m\u001b[0m\n\u001b[1;32m--> 398\u001b[1;33m     \u001b[0mreraise\u001b[0m\u001b[1;33m(\u001b[0m\u001b[0mtype\u001b[0m\u001b[1;33m(\u001b[0m\u001b[0mexception\u001b[0m\u001b[1;33m)\u001b[0m\u001b[1;33m,\u001b[0m \u001b[0mexception\u001b[0m\u001b[1;33m,\u001b[0m \u001b[0mtb\u001b[0m\u001b[1;33m=\u001b[0m\u001b[0mexc_tb\u001b[0m\u001b[1;33m,\u001b[0m \u001b[0mcause\u001b[0m\u001b[1;33m=\u001b[0m\u001b[0mcause\u001b[0m\u001b[1;33m)\u001b[0m\u001b[1;33m\u001b[0m\u001b[1;33m\u001b[0m\u001b[0m\n\u001b[0m\u001b[0;32m    399\u001b[0m \u001b[1;33m\u001b[0m\u001b[0m\n\u001b[0;32m    400\u001b[0m \u001b[1;33m\u001b[0m\u001b[0m\n",
      "\u001b[1;32m~\\Anaconda3\\lib\\site-packages\\sqlalchemy\\util\\compat.py\u001b[0m in \u001b[0;36mreraise\u001b[1;34m(tp, value, tb, cause)\u001b[0m\n\u001b[0;32m    150\u001b[0m             \u001b[0mvalue\u001b[0m\u001b[1;33m.\u001b[0m\u001b[0m__cause__\u001b[0m \u001b[1;33m=\u001b[0m \u001b[0mcause\u001b[0m\u001b[1;33m\u001b[0m\u001b[1;33m\u001b[0m\u001b[0m\n\u001b[0;32m    151\u001b[0m         \u001b[1;32mif\u001b[0m \u001b[0mvalue\u001b[0m\u001b[1;33m.\u001b[0m\u001b[0m__traceback__\u001b[0m \u001b[1;32mis\u001b[0m \u001b[1;32mnot\u001b[0m \u001b[0mtb\u001b[0m\u001b[1;33m:\u001b[0m\u001b[1;33m\u001b[0m\u001b[1;33m\u001b[0m\u001b[0m\n\u001b[1;32m--> 152\u001b[1;33m             \u001b[1;32mraise\u001b[0m \u001b[0mvalue\u001b[0m\u001b[1;33m.\u001b[0m\u001b[0mwith_traceback\u001b[0m\u001b[1;33m(\u001b[0m\u001b[0mtb\u001b[0m\u001b[1;33m)\u001b[0m\u001b[1;33m\u001b[0m\u001b[1;33m\u001b[0m\u001b[0m\n\u001b[0m\u001b[0;32m    153\u001b[0m         \u001b[1;32mraise\u001b[0m \u001b[0mvalue\u001b[0m\u001b[1;33m\u001b[0m\u001b[1;33m\u001b[0m\u001b[0m\n\u001b[0;32m    154\u001b[0m \u001b[1;33m\u001b[0m\u001b[0m\n",
      "\u001b[1;32m~\\Anaconda3\\lib\\site-packages\\sqlalchemy\\engine\\base.py\u001b[0m in \u001b[0;36m_execute_context\u001b[1;34m(self, dialect, constructor, statement, parameters, *args)\u001b[0m\n\u001b[0;32m   1227\u001b[0m                 \u001b[1;32mif\u001b[0m \u001b[1;32mnot\u001b[0m \u001b[0mevt_handled\u001b[0m\u001b[1;33m:\u001b[0m\u001b[1;33m\u001b[0m\u001b[1;33m\u001b[0m\u001b[0m\n\u001b[0;32m   1228\u001b[0m                     self.dialect.do_executemany(\n\u001b[1;32m-> 1229\u001b[1;33m                         \u001b[0mcursor\u001b[0m\u001b[1;33m,\u001b[0m \u001b[0mstatement\u001b[0m\u001b[1;33m,\u001b[0m \u001b[0mparameters\u001b[0m\u001b[1;33m,\u001b[0m \u001b[0mcontext\u001b[0m\u001b[1;33m\u001b[0m\u001b[1;33m\u001b[0m\u001b[0m\n\u001b[0m\u001b[0;32m   1230\u001b[0m                     )\n\u001b[0;32m   1231\u001b[0m             \u001b[1;32melif\u001b[0m \u001b[1;32mnot\u001b[0m \u001b[0mparameters\u001b[0m \u001b[1;32mand\u001b[0m \u001b[0mcontext\u001b[0m\u001b[1;33m.\u001b[0m\u001b[0mno_parameters\u001b[0m\u001b[1;33m:\u001b[0m\u001b[1;33m\u001b[0m\u001b[1;33m\u001b[0m\u001b[0m\n",
      "\u001b[1;32m~\\Anaconda3\\lib\\site-packages\\sqlalchemy\\dialects\\postgresql\\psycopg2.py\u001b[0m in \u001b[0;36mdo_executemany\u001b[1;34m(self, cursor, statement, parameters, context)\u001b[0m\n\u001b[0;32m    852\u001b[0m     \u001b[1;32mdef\u001b[0m \u001b[0mdo_executemany\u001b[0m\u001b[1;33m(\u001b[0m\u001b[0mself\u001b[0m\u001b[1;33m,\u001b[0m \u001b[0mcursor\u001b[0m\u001b[1;33m,\u001b[0m \u001b[0mstatement\u001b[0m\u001b[1;33m,\u001b[0m \u001b[0mparameters\u001b[0m\u001b[1;33m,\u001b[0m \u001b[0mcontext\u001b[0m\u001b[1;33m=\u001b[0m\u001b[1;32mNone\u001b[0m\u001b[1;33m)\u001b[0m\u001b[1;33m:\u001b[0m\u001b[1;33m\u001b[0m\u001b[1;33m\u001b[0m\u001b[0m\n\u001b[0;32m    853\u001b[0m         \u001b[1;32mif\u001b[0m \u001b[0mself\u001b[0m\u001b[1;33m.\u001b[0m\u001b[0mexecutemany_mode\u001b[0m \u001b[1;32mis\u001b[0m \u001b[0mEXECUTEMANY_DEFAULT\u001b[0m\u001b[1;33m:\u001b[0m\u001b[1;33m\u001b[0m\u001b[1;33m\u001b[0m\u001b[0m\n\u001b[1;32m--> 854\u001b[1;33m             \u001b[0mcursor\u001b[0m\u001b[1;33m.\u001b[0m\u001b[0mexecutemany\u001b[0m\u001b[1;33m(\u001b[0m\u001b[0mstatement\u001b[0m\u001b[1;33m,\u001b[0m \u001b[0mparameters\u001b[0m\u001b[1;33m)\u001b[0m\u001b[1;33m\u001b[0m\u001b[1;33m\u001b[0m\u001b[0m\n\u001b[0m\u001b[0;32m    855\u001b[0m             \u001b[1;32mreturn\u001b[0m\u001b[1;33m\u001b[0m\u001b[1;33m\u001b[0m\u001b[0m\n\u001b[0;32m    856\u001b[0m \u001b[1;33m\u001b[0m\u001b[0m\n",
      "\u001b[1;31mProgrammingError\u001b[0m: (psycopg2.errors.UndefinedColumn) column \"State\" of relation \"state_lat_long\" does not exist\nLINE 1: INSERT INTO state_lat_long (\"State\", \"Initials\", \"Abbrev\", \"...\n                                    ^\n\n[SQL: INSERT INTO state_lat_long (\"State\", \"Initials\", \"Abbrev\", \"BLS_State_Code\", \"Latitude\", \"Longitude\", \"Pop_1990\", \"Pop_2000\", \"Pop_2010\", \"Pop_2018\", \"UR\", \"UR_Pop\", \"Percent_D\", \"Deaths\", \"Population_D\") VALUES (%(State)s, %(Initials)s, %(Abbrev)s, %(BLS_State_Code)s, %(Latitude)s, %(Longitude)s, %(Pop_1990)s, %(Pop_2000)s, %(Pop_2010)s, %(Pop_2018)s, %(UR)s, %(UR_Pop)s, %(Percent_D)s, %(Deaths)s, %(Population_D)s)]\n[parameters: ({'State': 'Alabama', 'Initials': 'AL', 'Abbrev': 'Ala.', 'BLS_State_Code': 'ST0100000000000', 'Latitude': 32.806671, 'Longitude': -86.79113000000001, 'Pop_1990': 4040389, 'Pop_2000': 4447207, 'Pop_2010': 4780138, 'Pop_2018': 4887871, 'UR': 0.026000000000000002, 'UR_Pop': 4908621, 'Percent_D': '0.00009892', 'Deaths': 485, 'Population_D': 4903185}, {'State': 'Alaska', 'Initials': 'AK', 'Abbrev': 'Alaska', 'BLS_State_Code': 'ST0200000000000', 'Latitude': 61.370716, 'Longitude': -152.404419, 'Pop_1990': 550043, 'Pop_2000': 626933, 'Pop_2010': 710249, 'Pop_2018': 737438, 'UR': 0.061, 'UR_Pop': 734002, 'Percent_D': ' -   ', 'Deaths': 0, 'Population_D': 731545}, {'State': 'Arizona', 'Initials': 'AZ', 'Abbrev': 'Ariz.', 'BLS_State_Code': 'ST0400000000000', 'Latitude': 33.729759, 'Longitude': -111.431221, 'Pop_1990': 3665339, 'Pop_2000': 5130247, 'Pop_2010': 6392288, 'Pop_2018': 7171646, 'UR': 0.046, 'UR_Pop': 7378494, 'Percent_D': '0.00009329', 'Deaths': 679, 'Population_D': 7278717}, {'State': 'Arkansas', 'Initials': 'AR', 'Abbrev': 'Ark.', 'BLS_State_Code': 'ST0500000000000', 'Latitude': 34.969704, 'Longitude': -92.37312299999999, 'Pop_1990': 2350624, 'Pop_2000': 2673293, 'Pop_2010': 2916028, 'Pop_2018': 3013825, 'UR': 0.036000000000000004, 'UR_Pop': 3038999, 'Percent_D': '0.00003247', 'Deaths': 98, 'Population_D': 3017804}, {'State': 'California', 'Initials': 'CA', 'Abbrev': 'Calif.', 'BLS_State_Code': 'ST0600000000000', 'Latitude': 36.116203000000006, 'Longitude': -119.681564, 'Pop_1990': 29811427, 'Pop_2000': 33871653, 'Pop_2010': 37254523, 'Pop_2018': 39557045, 'UR': 0.039, 'UR_Pop': 39937489, 'Percent_D': '0.00008119', 'Deaths': 3208, 'Population_D': 39512223}, {'State': 'Colorado', 'Initials': 'CO', 'Abbrev': 'Colo.', 'BLS_State_Code': 'ST0800000000000', 'Latitude': 39.059810999999996, 'Longitude': -105.311104, 'Pop_1990': 3294473, 'Pop_2000': 4302086, 'Pop_2010': 5029316, 'Pop_2018': 5695564, 'UR': 0.025, 'UR_Pop': 5845526, 'Percent_D': '0.00020699', 'Deaths': 1192, 'Population_D': 5758736}, {'State': 'Connecticut', 'Initials': 'CT', 'Abbrev': 'Conn.', 'BLS_State_Code': 'ST0900000000000', 'Latitude': 41.597782, 'Longitude': -72.755371, 'Pop_1990': 3287116, 'Pop_2000': 3405650, 'Pop_2010': 3574147, 'Pop_2018': 3572665, 'UR': 0.037000000000000005, 'UR_Pop': 3563077, 'Percent_D': '0.00093653', 'Deaths': 3339, 'Population_D': 3565287}, {'State': 'Delaware', 'Initials': 'DE', 'Abbrev': 'Del.', 'BLS_State_Code': 'ST1000000000000', 'Latitude': 39.318523, 'Longitude': -75.507141, 'Pop_1990': 666168, 'Pop_2000': 783559, 'Pop_2010': 897934, 'Pop_2018': 967171, 'UR': 0.039, 'UR_Pop': 982895, 'Percent_D': '0.00029371', 'Deaths': 286, 'Population_D': 973764}  ... displaying 10 of 51 total bound parameter sets ...  {'State': 'Wisconsin', 'Initials': 'WI', 'Abbrev': 'Wis.', 'BLS_State_Code': 'ST5500000000000', 'Latitude': 44.268543, 'Longitude': -89.616508, 'Pop_1990': 4891954, 'Pop_2000': 5363757, 'Pop_2010': 5687282, 'Pop_2018': 5813568, 'UR': 0.034, 'UR_Pop': 5851754, 'Percent_D': '0.0000778', 'Deaths': 453, 'Population_D': 5822434}, {'State': 'Wyoming', 'Initials': 'WY', 'Abbrev': 'Wyo.', 'BLS_State_Code': 'ST5600000000000', 'Latitude': 42.755966, 'Longitude': -107.30248999999999, 'Pop_1990': 453589, 'Pop_2000': 493786, 'Pop_2010': 563773, 'Pop_2018': 577737, 'UR': 0.037000000000000005, 'UR_Pop': 567025, 'Percent_D': '0.00001209', 'Deaths': 7, 'Population_D': 578759})]\n(Background on this error at: http://sqlalche.me/e/f405)"
     ]
    }
   ],
   "source": [
    "State_Lat_Long.to_sql(name=\"state_lat_long\", con=engine, if_exists=\"append\", index=False)"
   ]
  },
  {
   "cell_type": "code",
   "execution_count": null,
   "metadata": {},
   "outputs": [],
   "source": [
    "State_request = input(\"Please input state:\") \n",
    "print(State_request)"
   ]
  },
  {
   "cell_type": "code",
   "execution_count": null,
   "metadata": {},
   "outputs": [],
   "source": [
    "State_request"
   ]
  },
  {
   "cell_type": "code",
   "execution_count": null,
   "metadata": {},
   "outputs": [],
   "source": []
  }
 ],
 "metadata": {
  "kernelspec": {
   "display_name": "Python 3",
   "language": "python",
   "name": "python3"
  },
  "language_info": {
   "codemirror_mode": {
    "name": "ipython",
    "version": 3
   },
   "file_extension": ".py",
   "mimetype": "text/x-python",
   "name": "python",
   "nbconvert_exporter": "python",
   "pygments_lexer": "ipython3",
   "version": "3.7.4"
  }
 },
 "nbformat": 4,
 "nbformat_minor": 2
}
